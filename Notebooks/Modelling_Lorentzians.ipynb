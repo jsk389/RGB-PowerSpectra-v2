{
 "cells": [
  {
   "cell_type": "code",
   "execution_count": 1,
   "metadata": {},
   "outputs": [],
   "source": [
    "%matplotlib inline"
   ]
  },
  {
   "cell_type": "code",
   "execution_count": 2,
   "metadata": {},
   "outputs": [
    {
     "data": {
      "text/plain": [
       "<astropy.units.core._UnitContext at 0x7f1b161f0a90>"
      ]
     },
     "execution_count": 2,
     "metadata": {},
     "output_type": "execute_result"
    }
   ],
   "source": [
    "import astropy.units as u\n",
    "import celerite\n",
    "import lightkurve as lk\n",
    "import matplotlib.pyplot as plt\n",
    "import numpy as np\n",
    "\n",
    "from astropy.units import cds\n",
    "from celerite import terms\n",
    "\n",
    "cds.enable()"
   ]
  },
  {
   "cell_type": "code",
   "execution_count": 3,
   "metadata": {},
   "outputs": [],
   "source": [
    "import astropy.units as u\n",
    "import celerite\n",
    "import lightkurve as lk\n",
    "import matplotlib.pyplot as plt\n",
    "import numpy as np\n",
    "\n",
    "from astropy.units import cds\n",
    "from celerite import terms\n",
    "\n",
    "cds.enable()\n",
    "\n",
    "class AsteroTerm(terms.SHOTerm):\n",
    "\n",
    "    parameter_names = (\n",
    "        \"height\", \"freq\", \"lwd\",\n",
    "    )\n",
    "\n",
    "    def __init__(self, *args, **kwargs):\n",
    "        super(AsteroTerm, self).__init__(*args, **kwargs)\n",
    "\n",
    "    #def get_complex_coefficients(self, params):\n",
    "    #    (log_S, log_omega, log_Q) = params\n",
    "    #    \n",
    "    #    a = np.exp(log_S + log_omega + log_Q)\n",
    "    #    b = a / np.sqrt(4*np.exp(2*log_Q) - 1)\n",
    "    #    c = np.exp(log_omega) / (2 * np.exp(log_Q))\n",
    "    #    d = c * np.sqrt(4*np.exp(2*log_Q) - 1)\n",
    "    #    return (\n",
    "    #        a,\n",
    "    #        b,\n",
    "    #        c,\n",
    "    #        d\n",
    "    #    )\n",
    "\n",
    "    def get_all_coefficients(self, params):\n",
    "\n",
    "        # Convert to cycles per day\n",
    "        nu0_cpd = params[1] * (86400.0 / 1e6)\n",
    "        lwd_cpd = params[2] * (86400.0 / 1e6)\n",
    "        height_cpd = params[0] * (1e6/86400.0)\n",
    "\n",
    "        # Account for normalisation in height\n",
    "        height = height_cpd * np.sqrt(np.pi/2) / 4\n",
    "        # \n",
    "        omega0 = 2 * np.pi * nu0_cpd \n",
    "        Q = nu0_cpd / lwd_cpd\n",
    "\n",
    "        #\n",
    "        coeffs = []\n",
    "        for i in range(1):\n",
    "            log_S0 = np.log(height) - 2*np.log(Q)\n",
    "            log_Q = np.log(Q)\n",
    "            log_omega0 = np.log(omega0)\n",
    "            coeffs.append(super(AsteroTerm, self).get_all_coefficients([log_S0, log_Q, log_omega0]))\n",
    "        return [np.concatenate(args) for args in zip(*coeffs)]\n",
    "\n",
    "    #def get_terms(self):\n",
    "    #    coeffs = self.get_complex_coefficients()\n",
    "    #    return [terms.ComplexTerm(*(np.log(args))) for args in zip(*coeffs)]\n",
    "\n",
    "def compute_mode(params, white=0):\n",
    "    \"\"\"\n",
    "    doc-string needed\n",
    "    \"\"\"\n",
    "\n",
    "    #if white == 0:\n",
    "    #    white = 1e-12\n",
    "\n",
    "\n",
    "    #print(f\"S0: {S0}\")\n",
    "\n",
    "    # Convert parameters to cycles per day\n",
    "    lwd = params[2] * (86400.0 / 1e6)\n",
    "    nu0 = params[1] * (86400.0 / 1e6)\n",
    "    height = params[0] * (86400.0/1e6)\n",
    "\n",
    "    Q = (2 * np.pi * nu0) / (2 * np.pi * lwd)\n",
    "    omega = 2 * np.pi * nu0\n",
    "    S0 = height * (lwd/nu0)**2 * 4 * np.sqrt(2/np.pi)\n",
    "\n",
    "    kernel = AsteroTerm(height=params[0],\n",
    "                        freq = params[1],\n",
    "                        lwd = params[2])\n",
    "    kernel += terms.JitterTerm(log_sigma = np.log(white))\n",
    "\n",
    "    gp = celerite.GP(kernel)\n",
    "    return kernel, gp, S0\n",
    "\n",
    "def compute_lor_model(f, params, dt, white=0):\n",
    "\n",
    "    # dt must be in seconds!\n",
    "    backg = 2e-6 * white**2 * dt\n",
    "\n",
    "    model = np.ones_like(f) * backg\n",
    "    \n",
    "    x = (2 / params[2]) * (f - params[1])\n",
    "    model += (params[0] / (1 + x**2))\n",
    "\n",
    "    return model\n",
    "\n",
    "def compute_full_model(f, params, dt, white=0):\n",
    "\n",
    "    # Convert parameters to cycles per day\n",
    "    lwd = params[2] * (86400.0 / 1e6)\n",
    "    nu0 = params[1] * (86400.0 / 1e6)\n",
    "    height = params[0]# * (1e6/86400.0)\n",
    "\n",
    "    Q = (2 * np.pi * nu0) / (2 * np.pi * lwd)\n",
    "    omega0 = 2 * np.pi * nu0\n",
    "    omega = 2 * np.pi * f * (86400.0 / 1e6)\n",
    "    S0 = height * (lwd/nu0)**2# * 4 * np.sqrt(2/np.pi)\n",
    "\n",
    "    H = S0*omega0**4\n",
    "    x0 = (omega**2 - omega0**2)\n",
    "    x1 = (omega*omega0)/Q\n",
    "    return (H / (x0**2 + x1**2)) + (2e-6*white**2*dt)"
   ]
  },
  {
   "cell_type": "markdown",
   "metadata": {},
   "source": [
    "## Use celerite to general oscillations\n",
    "\n",
    "A stochastically-driven and damped simple harmonic oscillator according to the differential equation (e.g. [DFM (2017)](https://arxiv.org/pdf/1703.09710.pdf))\n",
    "\n",
    "$$\n",
    "\\frac{\\mathrm{d}^{2}}{\\mathrm{d}t^{2}}y(t) + \\frac{\\omega_{0}}{Q}\\frac{\\mathrm{d}}{\\mathrm{d}t}y(t) + \\omega_{0}^{2}y(t) = \\varepsilon(t),\n",
    "$$\n",
    "\n",
    "where $\\omega_{0}$ is the frequency of the undamped oscillator, $Q$ is the quality factor and $\\varepsilon(t)$ is the driving force.\n",
    "\n",
    "For completeness we can compare this to Eqn (1) from [Chaplin (1997)](http://articles.adsabs.harvard.edu/pdf/1997MNRAS.287...51C)\n",
    "\n",
    "$$\n",
    "\\frac{\\mathrm{d}^{2}}{\\mathrm{d}t^{2}}y(t) + 2\\eta\\frac{\\mathrm{d}}{\\mathrm{d}t}y(t) + \\omega_{0}^{2}y(t) = A\\delta(t-t_{0}),\n",
    "$$\n",
    "\n",
    "where $\\eta=1/(\\pi\\Gamma)$ is the damping constant, $\\Gamma$ is the FWHM and $A$ is the amplitude of the forcing function $\\delta(t-t_{0})$. Finally we can also relate this back to Eqn. (1) of [Anderson (1990)](http://articles.adsabs.harvard.edu/pdf/1990ApJ...364..699A)\n",
    "\n",
    "$$\n",
    "\\frac{1}{(2\\pi\\nu_{0})^{2}}\\frac{\\mathrm{d}^{2}}{\\mathrm{d}t^{2}}y(t) + \\frac{1}{2\\pi\\nu_{0}Q}\\frac{\\mathrm{d}}{\\mathrm{d}t}y(t) + y(t) = x(t),\n",
    "$$\n",
    "\n",
    "where $x(t)$ is a random forcing function.\n",
    "\n",
    "We can also obtain the FWHM as $\\Gamma = \\nu_{0}/Q$ or $\\gamma = \\omega_{0}/Q$, where $\\Gamma = \\gamma/(2\\pi)$."
   ]
  },
  {
   "cell_type": "code",
   "execution_count": 4,
   "metadata": {},
   "outputs": [
    {
     "data": {
      "image/png": "[encoded data removed]",
      "text/plain": [
       "<Figure size 432x288 with 1 Axes>"
      ]
     },
     "metadata": {
      "needs_background": "light"
     },
     "output_type": "display_data"
    }
   ],
   "source": [
    "dt = 29.4*60\n",
    "t = np.arange(0, 1000*86400, dt)\n",
    "nyq = 1.0 / (2*dt)\n",
    "bw = 1.0 / t[-1]\n",
    "t = (t/86400.0) * u.day\n",
    "\n",
    "params = [10.0, 100.0, 1.0]\n",
    "white = 1.0\n",
    "kernel, gp, S0 = compute_mode(params, white=white)\n",
    "gp.compute(t.value)\n",
    "# model from Kallinger (2014)\n",
    "y = gp.sample()\n",
    "\n",
    "plt.plot(t, y);\n",
    "plt.xlabel('Time (days)');\n",
    "plt.ylabel('Flux (ppm)');"
   ]
  },
  {
   "cell_type": "code",
   "execution_count": 5,
   "metadata": {},
   "outputs": [
    {
     "name": "stdout",
     "output_type": "stream",
     "text": [
      "[ 1.69364654  1.49059157  3.34790444 ...  1.85742608 -1.39003959\n",
      " -7.99266412] ppm\n"
     ]
    }
   ],
   "source": [
    "y = y*cds.ppm\n",
    "print(y)\n",
    "lc = lk.LightCurve(time=t, flux=y)\n",
    "\n",
    "# Approximate Nyquist Frequency and frequency bin width in terms of days\n",
    "nyquist = 0.5 * (1./(np.median(np.diff(lc.time))))\n",
    "\n",
    "ps = lc.to_periodogram(normalization='psd',\n",
    "                       freq_unit=u.microhertz)"
   ]
  },
  {
   "cell_type": "markdown",
   "metadata": {},
   "source": [
    "The PSD of the stochastic SHO is given by Eqn (20) from [DFM (2017)](https://arxiv.org/pdf/1703.09710.pdf)\n",
    "\n",
    "$$\n",
    "S(\\omega) = 4\\sqrt{\\frac{2}{\\pi}}\\frac{S_{0}\\omega_{0}^{4}}{(\\omega^{2}-\\omega_{0}^{2})^{2} + \\omega_{0}^{2}\\omega^{2}/Q^{2}},\n",
    "$$\n",
    "\n",
    "where $S_{0}$ is proportional to the power at $\\omega=\\omega_{0}$, $S(\\omega_{0})=4\\sqrt{2/\\pi}S_{0}Q^{2}$. \n",
    "\n",
    "To get to our standard Lorentzian profile we can make the assumption that the oscillations have a high Q-factor and near the resonant frequency ($\\nu\\approx\\nu_{0}$) we get (Eqn (7) of Anderson (1990))\n",
    "\n",
    "$$\n",
    "L(\\nu) = \\frac{(P_{T}/\\pi)(\\Gamma/2)}{(\\nu_{0}-\\nu)^2 + (\\Gamma/2)^2},\n",
    "$$\n",
    "\n",
    "where $P_{T}$ is the integrated power of the mode. This can be simplified to give a more familiar expression\n",
    "\n",
    "$$\n",
    "L(\\nu) = \\frac{2P_{T}/\\pi\\Gamma}{1 + (2/\\Gamma)^2(\\nu_{0}-\\nu)^2},\n",
    "$$\n",
    "\n",
    "where $P_{T}=A^{2}$, where $A$ is the mode amplitude.\n",
    "\n",
    "We can directly equate the quantities from the two expressions by matching the values at $\\omega=\\omega_{0}$, i.e.\n",
    "\n",
    "$$\n",
    "4\\sqrt{\\frac{2}{\\pi}}S_{0}Q^{2} = H,\n",
    "$$\n",
    "\n",
    "where $H$ is the height of the Lorentzian profile. Therefore we get $S_{0} \\propto H/Q^{2}$."
   ]
  },
  {
   "cell_type": "code",
   "execution_count": 6,
   "metadata": {},
   "outputs": [],
   "source": [
    "f = np.arange(bw, nyq, bw) * 1e6\n",
    "lor = compute_lor_model(f, params, dt, white=white)\n",
    "full = compute_full_model(f, params, dt, white=white)"
   ]
  },
  {
   "cell_type": "code",
   "execution_count": 7,
   "metadata": {},
   "outputs": [
    {
     "name": "stdout",
     "output_type": "stream",
     "text": [
      "999.9879166666667 d\n"
     ]
    }
   ],
   "source": [
    "psd = kernel.get_psd(2*np.pi*f*(86400.0/1e6))# / (2 * np.pi)\n",
    "print(t.max())\n",
    "# Get back into correct units\n",
    "psd *= (2 / (t.max().value))\n",
    "psd *= (2 / (f[1]-f[0]))"
   ]
  },
  {
   "cell_type": "code",
   "execution_count": 69,
   "metadata": {},
   "outputs": [
    {
     "name": "stdout",
     "output_type": "stream",
     "text": [
      "0.9977907910428081\n"
     ]
    },
    {
     "data": {
      "text/plain": [
       "<matplotlib.legend.Legend at 0x7fee9dd09e10>"
      ]
     },
     "execution_count": 69,
     "metadata": {},
     "output_type": "execute_result"
    },
    {
     "data": {
      "image/png": "[encoded data removed]",
      "text/plain": [
       "<Figure size 432x288 with 1 Axes>"
      ]
     },
     "metadata": {
      "needs_background": "light"
     },
     "output_type": "display_data"
    }
   ],
   "source": [
    "plt.plot(ps.frequency, ps.power, color='k')\n",
    "# Have to add in white noise component to psd as celerite doesn't do\n",
    "# it by default \n",
    "plt.plot(f, psd + 2e-6*white**2*dt, color='r', label=r'PSD of GP')\n",
    "print(np.sum(lor)/np.sum(psd + 2e-6*white**2*dt))\n",
    "plt.plot(f, lor, color='k', label=r'Lorentzian Profile')\n",
    "plt.plot(f, full, color='g', label=r'Full expression')\n",
    "#plt.xlim(params[1] - 10*params[2], params[1] + 10*params[2])\n",
    "plt.xlim(95.5, 105.5)\n",
    "plt.xlabel(r'Frequency ($\\mu$Hz)')\n",
    "plt.ylabel(r'Power(ppm$^{2}\\mu$Hz$^{-1}$)')\n",
    "plt.legend(loc='best')\n",
    "#plt.plot(f*1e6, backg_model)"
   ]
  },
  {
   "cell_type": "code",
   "execution_count": 72,
   "metadata": {},
   "outputs": [
    {
     "data": {
      "text/plain": [
       "Text(0, 0.5, 'Power Difference of analytical functions (ppm$^{2}\\\\mu$Hz$^{-1}$)')"
      ]
     },
     "execution_count": 72,
     "metadata": {},
     "output_type": "execute_result"
    },
    {
     "data": {
      "image/png": "[encoded data removed]",
      "text/plain": [
       "<Figure size 432x288 with 1 Axes>"
      ]
     },
     "metadata": {
      "needs_background": "light"
     },
     "output_type": "display_data"
    }
   ],
   "source": [
    "plt.plot(f, (lor) - full)\n",
    "plt.xlabel(r'Frequency ($\\mu$Hz)')\n",
    "plt.ylabel(r'Power Difference of analytical functions (ppm$^{2}\\mu$Hz$^{-1}$)')\n",
    "#plt.xlim(params[1] - 10*params[2], params[1] + 10*params[2])"
   ]
  }
 ],
 "metadata": {
  "kernelspec": {
   "display_name": "Python 3",
   "language": "python",
   "name": "python3"
  },
  "language_info": {
   "codemirror_mode": {
    "name": "ipython",
    "version": 3
   },
   "file_extension": ".py",
   "mimetype": "text/x-python",
   "name": "python",
   "nbconvert_exporter": "python",
   "pygments_lexer": "ipython3",
   "version": "3.7.6"
  }
 },
 "nbformat": 4,
 "nbformat_minor": 4
}
